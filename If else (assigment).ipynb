{
 "cells": [
  {
   "cell_type": "markdown",
   "id": "50df46a7-ecf0-4a68-bccb-f46aeb2e0126",
   "metadata": {},
   "source": [
    "# Question 2"
   ]
  },
  {
   "cell_type": "code",
   "execution_count": 1,
   "id": "d2563814-8cfc-467c-97d9-81cce047df65",
   "metadata": {},
   "outputs": [
    {
     "name": "stdin",
     "output_type": "stream",
     "text": [
      "Enter your percentage:  790\n"
     ]
    },
    {
     "name": "stdout",
     "output_type": "stream",
     "text": [
      "Your grade is: A\n"
     ]
    }
   ],
   "source": [
    "percentage = float(input(\"Enter your percentage: \"))\n",
    "if percentage > 90:\n",
    "    grade = 'A'\n",
    "elif percentage > 80 and percentage <= 90:\n",
    "    grade = 'B'\n",
    "elif percentage >= 60 and percentage <= 80:\n",
    "    grade = 'C'\n",
    "else:\n",
    "    grade = 'D'\n",
    "\n",
    "print(\"Your grade is:\", grade)"
   ]
  },
  {
   "cell_type": "markdown",
   "id": "390caa13-ec06-46f2-93eb-214b0d8cb9d3",
   "metadata": {},
   "source": [
    "# Question 1"
   ]
  },
  {
   "cell_type": "code",
   "execution_count": 2,
   "id": "c89b7418-393d-4fc2-a182-f61059a73052",
   "metadata": {},
   "outputs": [
    {
     "name": "stdin",
     "output_type": "stream",
     "text": [
      "Enter the number of electricity units consumed:  980\n"
     ]
    },
    {
     "name": "stdout",
     "output_type": "stream",
     "text": [
      "Total electricity bill: Rs 8300\n"
     ]
    }
   ],
   "source": [
    "units = int(input(\"Enter the number of electricity units consumed: \"))\n",
    "bill = 0\n",
    "if units > 200:\n",
    "    bill = (100 * 5) + ((units - 200) * 10)\n",
    "if units > 100 and units <= 200:\n",
    "    bill = (units - 100) * 5\n",
    "if units <= 100:\n",
    "    bill = 0\n",
    "print(\"Total electricity bill: Rs\", bill)"
   ]
  },
  {
   "cell_type": "markdown",
   "id": "a97e52d5-92f4-451f-a303-8ea89381147e",
   "metadata": {},
   "source": [
    "# Question 3"
   ]
  },
  {
   "cell_type": "code",
   "execution_count": 5,
   "id": "ffce435d-efe8-43b3-b293-489eeccc82aa",
   "metadata": {},
   "outputs": [
    {
     "name": "stdin",
     "output_type": "stream",
     "text": [
      "Enter the age of person 1:  8\n",
      "Enter the age of person 2:  9\n",
      "Enter the age of person 3:  6\n",
      "Enter the age of person 4:  10\n"
     ]
    },
    {
     "name": "stdout",
     "output_type": "stream",
     "text": [
      "The youngest age is: 6\n"
     ]
    }
   ],
   "source": [
    "ages = []\n",
    "\n",
    "for i in range(1, 5):\n",
    "    age = int(input(f\"Enter the age of person {i}: \"))\n",
    "    ages.append(age)\n",
    "\n",
    "youngest = min(ages)\n",
    "\n",
    "print(f\"The youngest age is: {youngest}\")"
   ]
  },
  {
   "cell_type": "markdown",
   "id": "d05c8f13-bbe5-4421-b9e0-03d8649e9c80",
   "metadata": {},
   "source": [
    "# Question 4"
   ]
  },
  {
   "cell_type": "code",
   "execution_count": 6,
   "id": "b9a0c4c3-35c4-45e9-8ba2-d010477ded80",
   "metadata": {},
   "outputs": [
    {
     "name": "stdin",
     "output_type": "stream",
     "text": [
      "Enter your salary:  10\n",
      "Enter your years of service:  30\n"
     ]
    },
    {
     "name": "stdout",
     "output_type": "stream",
     "text": [
      "Your bonus amount is: 1.00\n"
     ]
    }
   ],
   "source": [
    "salary = float(input(\"Enter your salary: \"))\n",
    "years_of_service = float(input(\"Enter your years of service: \"))\n",
    "if years_of_service > 10:\n",
    "    bonus_percent = 0.10  # 10%\n",
    "elif 6 <= years_of_service <= 10:\n",
    "    bonus_percent = 0.08  # 8%\n",
    "else:\n",
    "    bonus_percent = 0.05  # 5%\n",
    "\n",
    "bonus_amount = salary * bonus_percent\n",
    "\n",
    "print(f\"Your bonus amount is: {bonus_amount:.2f}\")"
   ]
  },
  {
   "cell_type": "markdown",
   "id": "9aabe58d-26cb-42e8-a40e-831eaf286f50",
   "metadata": {},
   "source": [
    "# Question 5"
   ]
  },
  {
   "cell_type": "code",
   "execution_count": 8,
   "id": "26cbce0e-0f28-43cc-92fa-f5b4a403aaea",
   "metadata": {},
   "outputs": [
    {
     "name": "stdin",
     "output_type": "stream",
     "text": [
      "Enter first number:  9\n",
      "Enter second number:  3\n",
      "Enter third number:  6\n"
     ]
    },
    {
     "name": "stdout",
     "output_type": "stream",
     "text": [
      "The second largest number is: 6.0\n"
     ]
    }
   ],
   "source": [
    "num1 = float(input(\"Enter first number: \"))\n",
    "num2 = float(input(\"Enter second number: \"))\n",
    "num3 = float(input(\"Enter third number: \"))\n",
    "numbers = [num1, num2, num3]\n",
    "numbers.sort()\n",
    "print(f\"The second largest number is: {numbers[1]}\")"
   ]
  },
  {
   "cell_type": "markdown",
   "id": "143c7789-0db9-4098-8076-c910c6be4474",
   "metadata": {},
   "source": [
    "# Question 6"
   ]
  },
  {
   "cell_type": "code",
   "execution_count": 10,
   "id": "bdd31481-33f6-4a7d-bf5e-664b988e2996",
   "metadata": {},
   "outputs": [
    {
     "name": "stdin",
     "output_type": "stream",
     "text": [
      "Enter the marked price:  20\n"
     ]
    },
    {
     "name": "stdout",
     "output_type": "stream",
     "text": [
      "Discount applied: 2.00\n",
      "Net amount to pay: 18.00\n"
     ]
    }
   ],
   "source": [
    "marked_price = float(input(\"Enter the marked price: \"))\n",
    "\n",
    "if marked_price > 10000:\n",
    "    discount_percent = 0.20  # 20%\n",
    "elif marked_price > 7000:\n",
    "    discount_percent = 0.15  # 15%\n",
    "else:\n",
    "    discount_percent = 0.10  # 10%\n",
    "\n",
    "discount = marked_price * discount_percent\n",
    "net_amount = marked_price - discount\n",
    "\n",
    "print(f\"Discount applied: {discount:.2f}\")\n",
    "print(f\"Net amount to pay: {net_amount:.2f}\")\n"
   ]
  },
  {
   "cell_type": "markdown",
   "id": "e3f277ad-6f16-46a8-8924-366594ba9a86",
   "metadata": {},
   "source": [
    "# Question 7"
   ]
  },
  {
   "cell_type": "code",
   "execution_count": 11,
   "id": "4ceb03cf-cdf8-41d6-8315-6dd020ac917f",
   "metadata": {},
   "outputs": [
    {
     "name": "stdin",
     "output_type": "stream",
     "text": [
      "Enter marks in English:  80\n",
      "Enter marks in Math:  70\n",
      "Enter marks in Science:  85\n",
      "Enter marks in Social Studies:  69\n"
     ]
    },
    {
     "name": "stdout",
     "output_type": "stream",
     "text": [
      "Stream Allotted: No stream allotted based on given criteria.\n"
     ]
    }
   ],
   "source": [
    "english = float(input(\"Enter marks in English: \"))\n",
    "math = float(input(\"Enter marks in Math: \"))\n",
    "science = float(input(\"Enter marks in Science: \"))\n",
    "social_studies = float(input(\"Enter marks in Social Studies: \"))\n",
    "\n",
    "if english > 80 and math > 80 and science > 80 and social_studies > 80:\n",
    "    stream = \"Science Stream\"\n",
    "elif english > 80 and math > 50 and science > 50:\n",
    "    stream = \"Commerce Stream\"\n",
    "elif english > 80 and social_studies > 80:\n",
    "    stream = \"Humanities\"\n",
    "else:\n",
    "    stream = \"No stream allotted based on given criteria.\"\n",
    "print(f\"Stream Allotted: {stream}\")"
   ]
  },
  {
   "cell_type": "markdown",
   "id": "9c79412b-2bee-4a36-b931-90fcadde741d",
   "metadata": {},
   "source": [
    "# Question 8"
   ]
  },
  {
   "cell_type": "code",
   "execution_count": 13,
   "id": "42f45194-c960-4b6e-bed1-a1aa2cdb0de2",
   "metadata": {},
   "outputs": [
    {
     "name": "stdin",
     "output_type": "stream",
     "text": [
      "Enter a number:  90\n"
     ]
    },
    {
     "name": "stdout",
     "output_type": "stream",
     "text": [
      "Hello\n"
     ]
    }
   ],
   "source": [
    "number = int(input(\"Enter a number: \"))\n",
    "if number % 5 == 0:\n",
    "    print(\"Hello\")\n",
    "else:\n",
    "    print(\"Bye\")"
   ]
  },
  {
   "cell_type": "markdown",
   "id": "b6a406b9-c5c5-41fe-a847-8854c29526c3",
   "metadata": {},
   "source": [
    "# Question 9"
   ]
  },
  {
   "cell_type": "code",
   "execution_count": 14,
   "id": "662af004-6707-45ac-9e0e-378e6228047f",
   "metadata": {},
   "outputs": [
    {
     "name": "stdin",
     "output_type": "stream",
     "text": [
      "Enter a number:  98\n"
     ]
    },
    {
     "name": "stdout",
     "output_type": "stream",
     "text": [
      "The last digit is not divisible by 3.\n"
     ]
    }
   ],
   "source": [
    "number = int(input(\"Enter a number: \"))\n",
    "last_digit = abs(number) % 10  \n",
    "if last_digit % 3 == 0:\n",
    "    print(\"The last digit is divisible by 3.\")\n",
    "else:\n",
    "    print(\"The last digit is not divisible by 3.\")"
   ]
  },
  {
   "cell_type": "markdown",
   "id": "11b6170b-3034-4bd4-82d1-6c7f4c051b00",
   "metadata": {},
   "source": [
    "# Question 10"
   ]
  },
  {
   "cell_type": "code",
   "execution_count": 15,
   "id": "4b752c27-ae41-4a6b-92af-0a3af4039fdc",
   "metadata": {},
   "outputs": [
    {
     "name": "stdin",
     "output_type": "stream",
     "text": [
      "Enter a number:  635\n"
     ]
    },
    {
     "name": "stdout",
     "output_type": "stream",
     "text": [
      "It is a three-digit number.\n"
     ]
    }
   ],
   "source": [
    "number = int(input(\"Enter a number: \"))\n",
    "\n",
    "if 100 <= abs(number) <= 999:\n",
    "    print(\"It is a three-digit number.\")\n",
    "else:\n",
    "    print(\"It is NOT a three-digit number.\")"
   ]
  },
  {
   "cell_type": "code",
   "execution_count": null,
   "id": "49421ac8-e6d9-441f-a0b8-361ece5716ed",
   "metadata": {},
   "outputs": [],
   "source": []
  }
 ],
 "metadata": {
  "kernelspec": {
   "display_name": "Python 3 (ipykernel)",
   "language": "python",
   "name": "python3"
  },
  "language_info": {
   "codemirror_mode": {
    "name": "ipython",
    "version": 3
   },
   "file_extension": ".py",
   "mimetype": "text/x-python",
   "name": "python",
   "nbconvert_exporter": "python",
   "pygments_lexer": "ipython3",
   "version": "3.12.7"
  }
 },
 "nbformat": 4,
 "nbformat_minor": 5
}
